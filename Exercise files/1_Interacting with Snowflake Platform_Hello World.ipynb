{
 "metadata": {
  "kernelspec": {
   "display_name": "Streamlit Notebook",
   "name": "streamlit"
  },
  "lastEditStatus": {
   "notebookId": "fn6qtzdr5qiwqg4jcc46",
   "authorId": "1026683379777",
   "authorName": "GOPHER04",
   "authorEmail": "",
   "sessionId": "2e646857-ec8d-4e66-b8bd-20f365d34dcf",
   "lastEditTime": 1753993267646
  }
 },
 "nbformat_minor": 5,
 "nbformat": 4,
 "cells": [
  {
   "cell_type": "markdown",
   "id": "8f84a180-268a-4360-894b-261a85b306fe",
   "metadata": {
    "name": "cell1",
    "collapsed": false
   },
   "source": "# 1. Interacting with Snowflake Platform - Hello World"
  },
  {
   "cell_type": "code",
   "id": "f91f51a8-ffab-4362-8c3b-c2a3d86b2718",
   "metadata": {
    "language": "sql",
    "name": "date_in_sql"
   },
   "outputs": [],
   "source": "SELECT current_date() as \"What is the current date? \";",
   "execution_count": null
  },
  {
   "cell_type": "code",
   "id": "1301b47d-3852-4f85-ba0e-fe4706452873",
   "metadata": {
    "language": "sql",
    "name": "time_in_sql"
   },
   "outputs": [],
   "source": "SELECT current_timestamp() as \"What is the current time?\";",
   "execution_count": null
  },
  {
   "cell_type": "code",
   "id": "14253550-d983-497d-97cd-5c6c8e48d997",
   "metadata": {
    "language": "python",
    "name": "date_in_python"
   },
   "outputs": [],
   "source": "from snowflake.snowpark.context import get_active_session\nfrom snowflake.snowpark.functions import current_date\nsession = get_active_session()\nsession.create_dataframe([1]).select(current_date().alias(\"What is the current date?\")).collect()",
   "execution_count": null
  },
  {
   "cell_type": "code",
   "id": "0645b0e6-8cad-4bbe-b2ce-a7c85c9ddde4",
   "metadata": {
    "language": "python",
    "name": "time_in_python"
   },
   "outputs": [],
   "source": "from snowflake.snowpark.context import get_active_session\nfrom snowflake.snowpark.functions import current_timestamp\nsession = get_active_session()\nvtime = current_timestamp()\nsession.create_dataframe([1]).select(vtime.alias(\"What is the current time?\")).collect()",
   "execution_count": null
  },
  {
   "cell_type": "markdown",
   "id": "14f56e6a-09a2-431f-be78-dffc1f7ec578",
   "metadata": {
    "name": "jinja_syntax",
    "collapsed": false
   },
   "source": "## Python variable substituion Across Notebook cells\n\nIn Snowflake Notebooks, we can make use of Jinja syntax `{{..}}` to reference Python variables defined earlier in both Python and SQL cells that occur later."
  },
  {
   "cell_type": "code",
   "id": "096a3eca-2352-4208-86e2-c57b00fb545c",
   "metadata": {
    "language": "python",
    "name": "cell3"
   },
   "outputs": [],
   "source": "greeting = \"Hello World!\"\nprint (greeting)",
   "execution_count": null
  },
  {
   "cell_type": "code",
   "id": "caef29cf-a201-4da7-b71e-cc72131db1ec",
   "metadata": {
    "language": "python",
    "name": "cell2"
   },
   "outputs": [],
   "source": "# printing the variable and using it in python cell without jinja syntax\nprint(\"This is the \\\"greeting\\\" defined in the previous cell\")  \nprint(greeting)\n",
   "execution_count": null
  },
  {
   "cell_type": "code",
   "id": "49545d72-a3bd-4516-945b-3b74c74b14e7",
   "metadata": {
    "language": "sql",
    "name": "reusing_variable"
   },
   "outputs": [],
   "source": "-- Reusing the variable using jinja syntax in SQL cell\nselect '{{greeting}}' as \"This is the greeting that was defined in an earlier cell\";",
   "execution_count": null
  }
 ]
}